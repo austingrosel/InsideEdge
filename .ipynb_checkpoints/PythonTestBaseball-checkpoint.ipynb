{
 "cells": [
  {
   "cell_type": "code",
   "execution_count": 37,
   "metadata": {
    "collapsed": true
   },
   "outputs": [],
   "source": [
    "import pandas as pd"
   ]
  },
  {
   "cell_type": "code",
   "execution_count": 159,
   "metadata": {},
   "outputs": [],
   "source": [
    "df = pd.read_csv('./data/raw/pitchdata.csv')"
   ]
  },
  {
   "cell_type": "code",
   "execution_count": 77,
   "metadata": {
    "collapsed": true
   },
   "outputs": [],
   "source": [
    "def avg(this_df):\n",
    "    return (this_df['H'] / this_df['AB']).round(3)"
   ]
  },
  {
   "cell_type": "code",
   "execution_count": 81,
   "metadata": {
    "collapsed": true
   },
   "outputs": [],
   "source": [
    "def obp(this_df):\n",
    "    return ((this_df['H']+ this_df['BB'] + this_df['HBP']) / this_df['PA']).round(3)"
   ]
  },
  {
   "cell_type": "code",
   "execution_count": 82,
   "metadata": {
    "collapsed": true
   },
   "outputs": [],
   "source": [
    "def slg(this_df):\n",
    "    return (this_df['TB'] / this_df['AB']).round(3)"
   ]
  },
  {
   "cell_type": "code",
   "execution_count": 178,
   "metadata": {},
   "outputs": [],
   "source": [
    "def create_stats(this_df, style, versus, stat, hitter_bool):\n",
    "    if versus == 'R':\n",
    "        if hitter_bool == True:\n",
    "            versus_txt = 'vs RHP'\n",
    "        else:\n",
    "            versus_txt = 'vs RHH'\n",
    "    else:\n",
    "        if hitter_bool == True:\n",
    "            versus_txt = 'vs LHP'\n",
    "        else:\n",
    "            versus_txt = 'vs LHH'\n",
    "\n",
    "    if stat == 'AVG':\n",
    "        value = avg(this_df)\n",
    "    elif stat == 'OBP':\n",
    "        value = obp(this_df)\n",
    "    elif stat == 'SLG':\n",
    "        value = slg(this_df)\n",
    "    else:\n",
    "        value = slg(this_df) + obp(this_df)\n",
    "        \n",
    "    e = pd.DataFrame({'SubjectId' : this_df.index, 'Stat' : stat, 'Split' : versus_txt, 'Subject' : style, 'Value' : value},\n",
    "                    columns=['SubjectId', 'Stat', 'Split', 'Subject', 'Value'])\n",
    "    e = e.reset_index(drop = True)\n",
    "    return e"
   ]
  },
  {
   "cell_type": "code",
   "execution_count": 179,
   "metadata": {},
   "outputs": [],
   "source": [
    "total = pd.DataFrame(columns=['SubjectId', 'Stat', 'Split', 'Subject', 'Value'])\n",
    "for style in ['HitterId', 'HitterTeamId', 'PitcherId', 'PitcherTeamId']:\n",
    "    for versus in ['R', 'L']:\n",
    "        if 'Hitter' in style:\n",
    "            sums = df[df.PitcherSide == versus].groupby(style).sum()\n",
    "            hitter_bool = True\n",
    "        else:\n",
    "            sums = df[df.HitterSide == versus].groupby(style).sum()\n",
    "            hitter_bool = False\n",
    "        sums_filtered = sums[sums.PA >= 25]\n",
    "        for stat in ['AVG', 'OBP', 'SLG', 'OPS']:\n",
    "            stats_df = create_stats(sums_filtered, style, versus, stat, hitter_bool)\n",
    "            total = total.append(stats_df)\n",
    "total = total.sort(['SubjectId', 'Stat', 'Split', 'Subject'])\n",
    "total.to_csv('./data/processed/output.csv')"
   ]
  },
  {
   "cell_type": "code",
   "execution_count": 180,
   "metadata": {},
   "outputs": [],
   "source": [
    "d = pd.read_csv('./data/reference/output.csv')"
   ]
  }
 ],
 "metadata": {
  "kernelspec": {
   "display_name": "Python 2",
   "language": "python",
   "name": "python2"
  },
  "language_info": {
   "codemirror_mode": {
    "name": "ipython",
    "version": 2
   },
   "file_extension": ".py",
   "mimetype": "text/x-python",
   "name": "python",
   "nbconvert_exporter": "python",
   "pygments_lexer": "ipython2",
   "version": "2.7.13"
  }
 },
 "nbformat": 4,
 "nbformat_minor": 2
}
